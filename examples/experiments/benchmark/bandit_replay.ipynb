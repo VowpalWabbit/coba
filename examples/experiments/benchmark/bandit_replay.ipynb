{
 "cells": [
  {
   "cell_type": "code",
   "execution_count": 1,
   "metadata": {
    "pycharm": {
     "name": "#%%\n"
    }
   },
   "outputs": [],
   "source": [
    "%load_ext autoreload\n",
    "%autoreload 2"
   ]
  },
  {
   "cell_type": "code",
   "execution_count": 2,
   "metadata": {
    "pycharm": {
     "name": "#%%\n"
    }
   },
   "outputs": [],
   "source": [
    "from typing import Optional, Sequence\n",
    "from coba.experiments.results import CustomResult\n",
    "import numpy as np\n",
    "\n",
    "from coba import CobaRandom, Environments, RandomLearner, Experiment, VowpalSoftmaxLearner, VowpalBagLearner, \\\n",
    "    VowpalEpsilonLearner, SimpleEvaluation\n",
    "from coba import VowpalCoverLearner, VowpalRegcbLearner, VowpalSquarecbLearner, VowpalOffPolicyLearner, CorralLearner\n",
    "from coba.environments import LambdaSimulation\n",
    "# from coba.experiments.tasks import SimpleEvaluation\n",
    "from coba.primitives import Context, Action"
   ]
  },
  {
   "cell_type": "markdown",
   "metadata": {
    "pycharm": {
     "name": "#%% md\n"
    }
   },
   "source": [
    "# Run Simulation"
   ]
  },
  {
   "cell_type": "code",
   "execution_count": null,
   "outputs": [],
   "source": [
    "import pandas as pd\n",
    "d = pd.read_csv(\"lambda_logs_6.csv\")\n",
    "# Uncomment to utilze rewards \n",
    "# d.rename(columns={\"rewards\": \"xxx\"}, inplace=True)"
   ],
   "metadata": {
    "collapsed": false,
    "pycharm": {
     "name": "#%%\n"
    }
   }
  },
  {
   "cell_type": "code",
   "execution_count": null,
   "outputs": [],
   "source": [
    "from coba.environments.banditreplay import BanditReplay\n",
    "\n",
    "environments = Environments([BanditReplay(d, take=5000, actions=[0,1])]).shuffle(n=4)\n",
    "learners = [\n",
    "    VowpalEpsilonLearner(features=[1, 'x', 'a', 'ax']),\n",
    "    VowpalSoftmaxLearner(features=[1, 'x', 'a', 'ax']),\n",
    "    VowpalBagLearner(features=[1, 'x', 'a', 'ax']),\n",
    "    VowpalOffPolicyLearner(features=[1, 'x', 'a', 'ax']),\n",
    "]\n",
    "\n",
    "learners.append(RandomLearner())\n",
    "\n",
    "result = Experiment(\n",
    "    environments,\n",
    "    learners,\n",
    "    evaluation_task=SimpleEvaluation(record=['reward','probability','action','context', 'ope_loss'])\n",
    ").run()\n",
    "result.__class__ = CustomResult"
   ],
   "metadata": {
    "collapsed": false,
    "pycharm": {
     "name": "#%%\n"
    }
   }
  },
  {
   "cell_type": "code",
   "execution_count": null,
   "outputs": [],
   "source": [
    "result.plot_learners()"
   ],
   "metadata": {
    "collapsed": false,
    "pycharm": {
     "name": "#%%\n"
    }
   }
  }
 ],
 "metadata": {
  "kernelspec": {
   "display_name": "Python 3 (ipykernel)",
   "language": "python",
   "name": "python3"
  },
  "language_info": {
   "codemirror_mode": {
    "name": "ipython",
    "version": 3
   },
   "file_extension": ".py",
   "mimetype": "text/x-python",
   "name": "python",
   "nbconvert_exporter": "python",
   "pygments_lexer": "ipython3",
   "version": "3.9.6"
  }
 },
 "nbformat": 4,
 "nbformat_minor": 1
}