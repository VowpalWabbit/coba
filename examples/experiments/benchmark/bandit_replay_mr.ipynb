{
 "cells": [
  {
   "cell_type": "code",
   "execution_count": 1,
   "metadata": {
    "pycharm": {
     "name": "#%%\n"
    }
   },
   "outputs": [],
   "source": [
    "%load_ext autoreload\n",
    "%autoreload 2"
   ]
  },
  {
   "cell_type": "code",
   "execution_count": 1,
   "metadata": {
    "pycharm": {
     "name": "#%%\n"
    }
   },
   "outputs": [],
   "source": [
    "from coba.experiments.results import CustomResult"
   ]
  },
  {
   "cell_type": "markdown",
   "metadata": {
    "pycharm": {
     "name": "#%% md\n"
    }
   },
   "source": [
    "# Run Simulation"
   ]
  },
  {
   "cell_type": "code",
   "execution_count": 7,
   "metadata": {
    "pycharm": {
     "name": "#%%\n"
    }
   },
   "outputs": [
    {
     "data": {
      "image/png": "[encoded data removed]",
      "text/plain": [
       "<Figure size 576x576 with 1 Axes>"
      ]
     },
     "metadata": {
      "needs_background": "light"
     },
     "output_type": "display_data"
    }
   ],
   "source": [
    "import coba as cb\n",
    "import numpy as np\n",
    "import matplotlib.pyplot as plt\n",
    "\n",
    "from coba.primitives.rewards import SequenceReward\n",
    "from coba.environments.banditreplay import BanditReplay\n",
    "\n",
    "class CustomEnvironment:\n",
    "\n",
    "    def __init__(self, n_interactions):\n",
    "        self._n_interactions = n_interactions\n",
    "\n",
    "    def read(self):\n",
    "        rng = cb. CobaRandom(1) #so the simulation is repeatable\n",
    "        for _ in range(self._n_interactions):\n",
    "            features = rng.randoms(3)\n",
    "            context  = dict(zip(['feature_1','feature_2','feature_3'],features))\n",
    "            rewards  = SequenceReward(np.random.binomial(1, np.clip([features[0]-.5*features[1]+.25, .5],0,1)).tolist())\n",
    "            yield { 'context': context, \"actions\": [0,1], \"rewards\": rewards}\n",
    "\n",
    "online_learners     = cb.VowpalSoftmaxLearner(features=[1, 'x', 'a', 'ax', 'axx'])\n",
    "online_environments = cb.Environments(CustomEnvironment(5000)).shuffle(n=5)\n",
    "online_logged       = cb.SimpleEvaluation(record=['context','actions','rewards','action','reward','probability','ope_loss'])\n",
    "online_result       = cb.Experiment(online_environments, online_learners, evaluation_task=online_logged).run(quiet=True)\n",
    "\n",
    "offline_learners     = [cb.VowpalOffPolicyLearner([1, 'x', 'a', 'ax', 'axx']), cb.RandomLearner()]\n",
    "offline_environments = BanditReplay(online_result.interactions.to_pandas(),take=5000)\n",
    "offline_result       = cb.Experiment(offline_environments, offline_learners, evaluation_task=online_logged).run(quiet=True)\n",
    "\n",
    "plt.figure(figsize=(8,8))\n",
    "online_result.plot_learners(labels=['online'],colors=[0],out=None)\n",
    "offline_result.plot_learners(labels=['offline','random'],colors=[1],out=None)\n",
    "plt.axhline(y = 0.63, color = 'y', linestyle = '--', label='theoretical best')\n",
    "plt.legend()\n",
    "plt.ylim(.37,.7)\n",
    "plt.show()"
   ]
  },
  {
   "cell_type": "code",
   "execution_count": 11,
   "metadata": {
    "pycharm": {
     "name": "#%%\n"
    }
   },
   "outputs": [
    {
     "data": {
      "text/html": [
       "<div>\n",
       "<style scoped>\n",
       "    .dataframe tbody tr th:only-of-type {\n",
       "        vertical-align: middle;\n",
       "    }\n",
       "\n",
       "    .dataframe tbody tr th {\n",
       "        vertical-align: top;\n",
       "    }\n",
       "\n",
       "    .dataframe thead th {\n",
       "        text-align: right;\n",
       "    }\n",
       "</style>\n",
       "<table border=\"1\" class=\"dataframe\">\n",
       "  <thead>\n",
       "    <tr style=\"text-align: right;\">\n",
       "      <th></th>\n",
       "      <th>learners</th>\n",
       "      <th>reward</th>\n",
       "      <th>probability</th>\n",
       "      <th>ope_loss</th>\n",
       "      <th>environment_variance</th>\n",
       "    </tr>\n",
       "    <tr>\n",
       "      <th>learner_id</th>\n",
       "      <th></th>\n",
       "      <th></th>\n",
       "      <th></th>\n",
       "      <th></th>\n",
       "      <th></th>\n",
       "    </tr>\n",
       "  </thead>\n",
       "  <tbody>\n",
       "    <tr>\n",
       "      <th>0</th>\n",
       "      <td>vw: --cb_adf --random_seed 1  --interactions a...</td>\n",
       "      <td>0.6094</td>\n",
       "      <td>0.9998</td>\n",
       "      <td>-0.301671</td>\n",
       "      <td>NaN</td>\n",
       "    </tr>\n",
       "    <tr>\n",
       "      <th>1</th>\n",
       "      <td>random: N/A</td>\n",
       "      <td>0.4966</td>\n",
       "      <td>0.5000</td>\n",
       "      <td>0.000000</td>\n",
       "      <td>NaN</td>\n",
       "    </tr>\n",
       "  </tbody>\n",
       "</table>\n",
       "</div>"
      ],
      "text/plain": [
       "                                                     learners  reward  \\\n",
       "learner_id                                                              \n",
       "0           vw: --cb_adf --random_seed 1  --interactions a...  0.6094   \n",
       "1                                                 random: N/A  0.4966   \n",
       "\n",
       "            probability  ope_loss  environment_variance  \n",
       "learner_id                                               \n",
       "0                0.9998 -0.301671                   NaN  \n",
       "1                0.5000  0.000000                   NaN  "
      ]
     },
     "execution_count": 11,
     "metadata": {},
     "output_type": "execute_result"
    }
   ],
   "source": [
    "offline_result.__class__ = CustomResult\n",
    "offline_result.eval_metrics()\n"
   ]
  },
  {
   "cell_type": "code",
   "execution_count": 12,
   "metadata": {},
   "outputs": [
    {
     "data": {
      "text/html": [
       "<div>\n",
       "<style scoped>\n",
       "    .dataframe tbody tr th:only-of-type {\n",
       "        vertical-align: middle;\n",
       "    }\n",
       "\n",
       "    .dataframe tbody tr th {\n",
       "        vertical-align: top;\n",
       "    }\n",
       "\n",
       "    .dataframe thead th {\n",
       "        text-align: right;\n",
       "    }\n",
       "</style>\n",
       "<table border=\"1\" class=\"dataframe\">\n",
       "  <thead>\n",
       "    <tr style=\"text-align: right;\">\n",
       "      <th></th>\n",
       "      <th>learners</th>\n",
       "      <th>reward</th>\n",
       "      <th>probability</th>\n",
       "      <th>ope_loss</th>\n",
       "      <th>environment_variance</th>\n",
       "    </tr>\n",
       "    <tr>\n",
       "      <th>learner_id</th>\n",
       "      <th></th>\n",
       "      <th></th>\n",
       "      <th></th>\n",
       "      <th></th>\n",
       "      <th></th>\n",
       "    </tr>\n",
       "  </thead>\n",
       "  <tbody>\n",
       "    <tr>\n",
       "      <th>0</th>\n",
       "      <td>vw: --cb_explore_adf --softmax --lambda 10 --r...</td>\n",
       "      <td>0.58956</td>\n",
       "      <td>0.804522</td>\n",
       "      <td>-0.058131</td>\n",
       "      <td>0.000068</td>\n",
       "    </tr>\n",
       "  </tbody>\n",
       "</table>\n",
       "</div>"
      ],
      "text/plain": [
       "                                                     learners   reward  \\\n",
       "learner_id                                                               \n",
       "0           vw: --cb_explore_adf --softmax --lambda 10 --r...  0.58956   \n",
       "\n",
       "            probability  ope_loss  environment_variance  \n",
       "learner_id                                               \n",
       "0              0.804522 -0.058131              0.000068  "
      ]
     },
     "execution_count": 12,
     "metadata": {},
     "output_type": "execute_result"
    }
   ],
   "source": [
    "online_result.__class__ = CustomResult\n",
    "online_result.eval_metrics()"
   ]
  }
 ],
 "metadata": {
  "kernelspec": {
   "display_name": "Python 3 (ipykernel)",
   "language": "python",
   "name": "python3"
  },
  "language_info": {
   "codemirror_mode": {
    "name": "ipython",
    "version": 3
   },
   "file_extension": ".py",
   "mimetype": "text/x-python",
   "name": "python",
   "nbconvert_exporter": "python",
   "pygments_lexer": "ipython3",
   "version": "3.7.13"
  }
 },
 "nbformat": 4,
 "nbformat_minor": 1
}
