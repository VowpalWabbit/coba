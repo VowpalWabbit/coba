{
 "cells": [
  {
   "cell_type": "markdown",
   "id": "1c8500c0-22b6-4b13-9904-2513d5a109e0",
   "metadata": {},
   "source": [
    "# Features\n",
    "\n",
    "Coba's out-of-the-box learners recognize three types of features: \n",
    "1. Individual values such as:\n",
    "   ```python\n",
    "   1 or 'a' or None\n",
    "   ```\n",
    "   <br>\n",
    "2. A Sequence of Dense values such as:\n",
    "   ```python\n",
    "   [1,2,3] or ['a','b'] or (1,2,3)\n",
    "   ```\n",
    "   <br>\n",
    "3. A Collection of Sparse values such as (where missing values are assumed to be 0):\n",
    "   ```python\n",
    "   {1:2, 'a':3}\n",
    "   ```\n",
    "\n",
    "A few more notes:\n",
    "* Individual values and dense values with strings can be thought of as sparse collections. That is,\n",
    "  ```python\n",
    "  [1,'a',5.2] ~= {0:1, 'a':1, 2:5.2}\n",
    "  ```\n",
    "  <br>\n",
    "* Coba's learners supprting feature interactions assume 'x' are context features and 'a' are action features. So,\n",
    "  ```python\n",
    "  #Given given context ['a','b'] and action 'c' 'x xx xa' would give features\n",
    "  ['a', 'b'] + ['aa', 'ab', 'bb'] + ['ac','bc']\n",
    "  ```\n",
    "  <br>\n",
    "* An easy trap to fall into is using numerical features when what is wanted are one-hot or string features\n",
    "  ```python\n",
    "  {'actions':[1,2,3]} #Three actions with one continuous feature. This can cause high-correlation among action rewards.\n",
    "  {'actions':[(1,0,0),(0,1,0),(0,0,1)]} #Three actions with disjoint features. Actions have independent predictions.\n",
    "  {'actions':['1','2','3']} #Equivalent to one-hot-encoding based on ['1','2','3'] ~= [{'1':1},{'2':1},{'3':1}]\n",
    "  ```"
   ]
  }
 ],
 "metadata": {
  "kernelspec": {
   "display_name": "Python 3 (ipykernel)",
   "language": "python",
   "name": "python3"
  },
  "language_info": {
   "codemirror_mode": {
    "name": "ipython",
    "version": 3
   },
   "file_extension": ".py",
   "mimetype": "text/x-python",
   "name": "python",
   "nbconvert_exporter": "python",
   "pygments_lexer": "ipython3",
   "version": "3.10.13"
  }
 },
 "nbformat": 4,
 "nbformat_minor": 5
}
