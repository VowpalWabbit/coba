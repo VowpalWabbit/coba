{
 "cells": [
  {
   "cell_type": "markdown",
   "id": "69d98db1-2027-4c8e-a628-371b624d81ba",
   "metadata": {},
   "source": [
    "# Filters\n",
    "Coba Filters modify Environments. An environmental Filter is any class with the following interface:\n",
    "\n",
    "```python\n",
    "class EnvironmentalFilter:\n",
    "    def filter(self, interactions:Iterable[Interaction])->Iterable[Interaction]:\n",
    "        ...\n",
    "```\n",
    "Where **[Interaction](Interactions.ipynb)** is a Python `dict` with specific entires. Most commonly it is, \n",
    "```python\n",
    "{'context':..., 'actions':..., 'rewards':...}.\n",
    "```"
   ]
  },
  {
   "cell_type": "markdown",
   "id": "9feb2b66-2063-4da9-881c-f7b8e2878c0c",
   "metadata": {},
   "source": [
    "# Preliminaries\n",
    "\n",
    "For a complete list of the environment filters provided by Coba out-of-the-box see...\n",
    "\n",
    "For more information regarding the Environments API used below see [here](Environments.ipynb)."
   ]
  },
  {
   "cell_type": "markdown",
   "id": "edb33977-db01-4a50-828b-f1e9a5f135bc",
   "metadata": {},
   "source": [
    "# A Simple Example\n",
    "\n",
    "Below we create and apply a Filter to set all interaction contexts to 1. Applying a filter to an Environments object is done via the `filter` method."
   ]
  },
  {
   "cell_type": "code",
   "execution_count": 1,
   "id": "cb083c50-d8f4-4b05-a986-652548b847bf",
   "metadata": {},
   "outputs": [
    {
     "name": "stdout",
     "output_type": "stream",
     "text": [
      "------------------------------------------------\n",
      "First interaction in unfiltered environment\n",
      "------------------------------------------------\n",
      "  {'context': [-0.75], 'actions': [[-0.59], [0.95]], 'rewards': DiscreteReward([[[-0.59205], [0.94641]], [0.17759, 1.02217]])}\n",
      "\n",
      "------------------------------------------------\n",
      "First interaction after applying SetContextToOne\n",
      "------------------------------------------------\n",
      "  {'context': 1, 'actions': [[-0.59], [0.95]], 'rewards': DiscreteReward([[[-0.59205], [0.94641]], [0.17759, 1.02217]])}\n"
     ]
    }
   ],
   "source": [
    "import coba as cb\n",
    "\n",
    "class SetContextToOne:\n",
    "    def filter(self,interactions):\n",
    "        for old in interactions:\n",
    "            new = old.copy() #we copy to make sure we don't contaminate other filters\n",
    "            new['context'] = 1 #set the context to 1\n",
    "            yield new #then yield the updated interaction\n",
    "\n",
    "env = cb.Environments.from_linear_synthetic(100, n_actions=2, n_context_features=1, n_action_features=1)\n",
    "one = env.filter(SetContextToOne())\n",
    "\n",
    "print(\"------------------------------------------------\")\n",
    "print(\"First interaction in unfiltered environment\")\n",
    "print(\"------------------------------------------------\")\n",
    "print(\"  \",end=\"\")\n",
    "print(cb.minimize(next(env[0].read()),2))\n",
    "\n",
    "print()\n",
    "print(\"------------------------------------------------\")\n",
    "print(\"First interaction after applying SetContextToOne\")\n",
    "print(\"------------------------------------------------\")\n",
    "print(\"  \",end=\"\")\n",
    "print(cb.minimize(next(one[0].read()),2))"
   ]
  },
  {
   "cell_type": "markdown",
   "id": "95c4e392-af8e-40c7-93a3-059d37a06bc2",
   "metadata": {},
   "source": [
    "# Adding Descriptive Parameters\n",
    "\n",
    "We can also provide parameters to describe a Filter. In the context of an Experiment these params go to `Result.environments`."
   ]
  },
  {
   "cell_type": "code",
   "execution_count": 9,
   "id": "c63255e0-6219-4dcc-a282-c6354d7094a3",
   "metadata": {},
   "outputs": [
    {
     "name": "stdout",
     "output_type": "stream",
     "text": [
      "----------------------------------------------\n",
      "Descriptive parameters before filtering\n",
      "----------------------------------------------\n",
      "  {'env_type': 'LinearSynthetic', 'reward_features': ['a', 'xa'], 'n_coeff': 5, 'seed': 1}\n",
      "\n",
      "----------------------------------------------\n",
      "Descriptive parameters after filtering\n",
      "----------------------------------------------\n",
      "  {'env_type': 'LinearSynthetic', 'reward_features': ['a', 'xa'], 'n_coeff': 5, 'seed': 1, 'N': 2}\n"
     ]
    }
   ],
   "source": [
    "import coba as cb\n",
    "\n",
    "class ContextToN:\n",
    "    def __init__(self,N):\n",
    "        self._N = N\n",
    "\n",
    "    @property\n",
    "    def params(self):\n",
    "        return {'N':self._N}\n",
    "\n",
    "    def filter(self,interactions):\n",
    "        for old in interactions:\n",
    "            new = old.copy() #we copy to make sure we don't pollute other filters\n",
    "            new['context'] = self._N #set the context to 1\n",
    "            yield new #then yield the updated interaction\n",
    "\n",
    "env = cb.Environments.from_linear_synthetic(100, n_actions=2, n_context_features=1, n_action_features=1)\n",
    "two = env.filter(ContextToN(2))\n",
    "\n",
    "print(\"----------------------------------------------\")\n",
    "print(\"Descriptive parameters before filtering\")\n",
    "print(\"----------------------------------------------\")\n",
    "print(\"  \",end=\"\")\n",
    "print(env[0].params)\n",
    "\n",
    "print()\n",
    "print(\"----------------------------------------------\")\n",
    "print(\"Descriptive parameters after filtering\")\n",
    "print(\"----------------------------------------------\")\n",
    "print(\"  \",end=\"\")\n",
    "print(two[0].params)"
   ]
  },
  {
   "cell_type": "markdown",
   "id": "9fd695b3-3691-4360-998b-1544d0027976",
   "metadata": {},
   "source": [
    "# Manually Applying Filters"
   ]
  },
  {
   "cell_type": "markdown",
   "id": "92124deb-c9a1-435a-a7a1-29292fb06c78",
   "metadata": {},
   "source": [
    "It is possible to manually apply filters to environments though it is strongly recommended to use the Environments API as shown above.\n",
    "\n",
    "Below is a quick example showing how a filter can be manually applied via the Pipes module."
   ]
  },
  {
   "cell_type": "code",
   "execution_count": 11,
   "id": "acb5583b-b18b-4152-a986-d154d9d8f449",
   "metadata": {},
   "outputs": [
    {
     "name": "stdout",
     "output_type": "stream",
     "text": [
      "----------------------------------------------\n",
      "Descriptive parameters before filtering\n",
      "----------------------------------------------\n",
      "  {'env_type': 'LinearSynthetic', 'reward_features': ['a', 'xa'], 'n_coeff': 5, 'seed': 1}\n",
      "\n",
      "----------------------------------------------\n",
      "Descriptive parameters after filtering\n",
      "----------------------------------------------\n",
      "  {'env_type': 'LinearSynthetic', 'reward_features': ['a', 'xa'], 'n_coeff': 5, 'seed': 1, 'N1': 2, 'N2': 1}\n"
     ]
    }
   ],
   "source": [
    "import coba as cb\n",
    "\n",
    "class ContextToN:\n",
    "    def __init__(self,N):\n",
    "        self._N = N\n",
    "\n",
    "    @property\n",
    "    def params(self):\n",
    "        return {'N':self._N}\n",
    "\n",
    "    def filter(self,interactions):\n",
    "        for old in interactions:\n",
    "            new = old.copy() #we copy to make sure we don't pollute other filters\n",
    "            new['context'] = self._N #set the context to 1\n",
    "            yield new #then yield the updated interaction\n",
    "\n",
    "env = cb.Environments.from_linear_synthetic(100, n_actions=2, n_context_features=1, n_action_features=1)[0]\n",
    "two = cb.pipes.Pipes.join(env,ContextToN(2),ContextToN(1)) # Any number of filters can be applied\n",
    "\n",
    "print(\"----------------------------------------------\")\n",
    "print(\"Descriptive parameters before filtering\")\n",
    "print(\"----------------------------------------------\")\n",
    "print(\"  \",end=\"\")\n",
    "print(env.params)\n",
    "\n",
    "print()\n",
    "print(\"----------------------------------------------\")\n",
    "print(\"Descriptive parameters after filtering\")\n",
    "print(\"----------------------------------------------\")\n",
    "print(\"  \",end=\"\")\n",
    "print(two.params)"
   ]
  }
 ],
 "metadata": {
  "kernelspec": {
   "display_name": "Python 3 (ipykernel)",
   "language": "python",
   "name": "python3"
  },
  "language_info": {
   "codemirror_mode": {
    "name": "ipython",
    "version": 3
   },
   "file_extension": ".py",
   "mimetype": "text/x-python",
   "name": "python",
   "nbconvert_exporter": "python",
   "pygments_lexer": "ipython3",
   "version": "3.10.13"
  }
 },
 "nbformat": 4,
 "nbformat_minor": 5
}
